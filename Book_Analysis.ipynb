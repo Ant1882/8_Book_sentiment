{
 "cells": [
  {
   "cell_type": "markdown",
   "id": "d6b13abb-2790-48c5-a00e-02f50f3241c7",
   "metadata": {},
   "source": [
    "# Load the book"
   ]
  },
  {
   "cell_type": "code",
   "execution_count": 1,
   "id": "b57ed3c4-f990-4ca5-a1dc-24d29e0a6d45",
   "metadata": {},
   "outputs": [],
   "source": [
    "with open(\"miracle_in_the_andes.txt\", \"r\") as file:\n",
    "    book = file.read()"
   ]
  },
  {
   "cell_type": "code",
   "execution_count": 3,
   "id": "4f65a99b-d2cd-4f2c-ba0d-4f35a62c4794",
   "metadata": {},
   "outputs": [
    {
     "data": {
      "text/plain": [
       "str"
      ]
     },
     "execution_count": 3,
     "metadata": {},
     "output_type": "execute_result"
    }
   ],
   "source": [
    "type(book)"
   ]
  },
  {
   "cell_type": "markdown",
   "id": "3e640500-4230-4ffd-b140-4cb0bad2ff63",
   "metadata": {},
   "source": [
    "# How many chapters?"
   ]
  },
  {
   "cell_type": "markdown",
   "id": "17f4c88f-b470-4ed7-b43e-adfe4dfe408c",
   "metadata": {},
   "source": [
    "### With string methods"
   ]
  },
  {
   "cell_type": "code",
   "execution_count": 5,
   "id": "187d1778-9b03-4b98-84cf-47d97056c2f9",
   "metadata": {},
   "outputs": [
    {
     "data": {
      "text/plain": [
       "11"
      ]
     },
     "execution_count": 5,
     "metadata": {},
     "output_type": "execute_result"
    }
   ],
   "source": [
    "book.count(\"Chapter\")"
   ]
  },
  {
   "cell_type": "markdown",
   "id": "2d7c3c5b-b683-4ef8-8da4-0918a580a7eb",
   "metadata": {},
   "source": [
    "### With regular expressions"
   ]
  },
  {
   "cell_type": "code",
   "execution_count": 6,
   "id": "4d468a0a-850a-4211-b2d0-94249942221b",
   "metadata": {},
   "outputs": [],
   "source": [
    "import re"
   ]
  },
  {
   "cell_type": "code",
   "execution_count": 14,
   "id": "aa4ce4cd-73f3-4a72-9ee2-5d404c0824f7",
   "metadata": {},
   "outputs": [
    {
     "data": {
      "text/plain": [
       "10"
      ]
     },
     "execution_count": 14,
     "metadata": {},
     "output_type": "execute_result"
    }
   ],
   "source": [
    "pattern = re.compile(\"Chapter [0-9]+\")\n",
    "findings = re.findall(pattern, book)\n",
    "len(findings)"
   ]
  },
  {
   "cell_type": "code",
   "execution_count": null,
   "id": "d18f12c8-cebb-4923-8b6a-4bf367fba9b4",
   "metadata": {},
   "outputs": [],
   "source": []
  }
 ],
 "metadata": {
  "kernelspec": {
   "display_name": "Python 3 (ipykernel)",
   "language": "python",
   "name": "python3"
  },
  "language_info": {
   "codemirror_mode": {
    "name": "ipython",
    "version": 3
   },
   "file_extension": ".py",
   "mimetype": "text/x-python",
   "name": "python",
   "nbconvert_exporter": "python",
   "pygments_lexer": "ipython3",
   "version": "3.10.6"
  }
 },
 "nbformat": 4,
 "nbformat_minor": 5
}
