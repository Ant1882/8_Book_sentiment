{
 "cells": [
  {
   "cell_type": "markdown",
   "id": "2ad934a5-d36d-433a-8475-8842eed0f5b3",
   "metadata": {},
   "source": [
    "# Load the book"
   ]
  },
  {
   "cell_type": "code",
   "execution_count": null,
   "id": "b2c1bc6a-16f2-4bff-a7e5-d1a59c4f90be",
   "metadata": {},
   "outputs": [],
   "source": []
  },
  {
   "cell_type": "markdown",
   "id": "fb839a3f-4611-4381-ab0d-816e0fb9e6b7",
   "metadata": {},
   "source": [
    "# Extract paragraphs where \"love\" was used"
   ]
  },
  {
   "cell_type": "code",
   "execution_count": null,
   "id": "50553b63-a6d6-45ae-b5e1-efc8ea56d2ca",
   "metadata": {},
   "outputs": [],
   "source": []
  },
  {
   "cell_type": "markdown",
   "id": "1298939e-3940-40a3-8ae4-a4681a3ab4f5",
   "metadata": {},
   "source": [
    "# Extract the chapter titles"
   ]
  },
  {
   "cell_type": "code",
   "execution_count": null,
   "id": "35b7f026-c6ad-42e1-8d1a-0a60e53c557f",
   "metadata": {},
   "outputs": [],
   "source": []
  },
  {
   "cell_type": "code",
   "execution_count": null,
   "id": "6380f009-1f59-4b3b-85ce-074df22f1056",
   "metadata": {},
   "outputs": [],
   "source": []
  },
  {
   "cell_type": "markdown",
   "id": "5e437f77-25f4-4190-bf2c-ea8a6732a878",
   "metadata": {},
   "source": [
    "# Function that finds occurrence of any word"
   ]
  },
  {
   "cell_type": "code",
   "execution_count": null,
   "id": "f2061691-ada8-44f4-aeda-babf66fd68ca",
   "metadata": {},
   "outputs": [],
   "source": []
  },
  {
   "cell_type": "markdown",
   "id": "d66edfda-b253-486f-91bb-8d09f89bc829",
   "metadata": {},
   "source": [
    "# Call the function"
   ]
  },
  {
   "cell_type": "code",
   "execution_count": null,
   "id": "68a5912d-9f82-4f4f-bf44-f457da938c42",
   "metadata": {},
   "outputs": [],
   "source": []
  },
  {
   "cell_type": "code",
   "execution_count": null,
   "id": "7f53ba7d-71c4-42d8-b5a7-141cf9d1a138",
   "metadata": {},
   "outputs": [],
   "source": []
  }
 ],
 "metadata": {
  "kernelspec": {
   "display_name": "Python 3 (ipykernel)",
   "language": "python",
   "name": "python3"
  },
  "language_info": {
   "codemirror_mode": {
    "name": "ipython",
    "version": 3
   },
   "file_extension": ".py",
   "mimetype": "text/x-python",
   "name": "python",
   "nbconvert_exporter": "python",
   "pygments_lexer": "ipython3",
   "version": "3.10.6"
  }
 },
 "nbformat": 4,
 "nbformat_minor": 5
}
